{
 "cells": [
  {
   "cell_type": "code",
   "execution_count": null,
   "metadata": {
    "collapsed": true
   },
   "outputs": [],
   "source": [
    "import urllib\n",
    "import re\n",
    "import sqlite3\n",
    "import nordstromMining as nm"
   ]
  },
  {
   "cell_type": "code",
   "execution_count": null,
   "metadata": {
    "collapsed": false
   },
   "outputs": [],
   "source": [
    "def initDB():\n",
    "    #initializes both women's and men's databases\n",
    "    conn = sqlite3.connect('nordstrom.db')\n",
    "    c = conn.cursor()\n",
    "    \n",
    "    c.execute('CREATE TABLE nordstromW (Name,VendorName,Color,Price)')\n",
    "    conn.commit()\n",
    "    c.execute('CREATE TABLE nordstromM (Name,VendorName,Color,Price)')\n",
    "    conn.commit()\n",
    "    conn.close()\n",
    "              \n",
    "def replaceChars(text):\n",
    "    #wrapper around standard regexes to remove/replace unusual characters\n",
    "    chars = [\n",
    "        ['(\\xc3\\xa9)|(\\xc3\\xa8)|(\\xc3\\xaa)','e'],\n",
    "        ['(&#231;)','c'],\n",
    "        ['(&#174;)|(&#233;)|\\'|(\\xc2\\xae)|(\\xe2\\x84\\xa2)|(&#39;)',''],\n",
    "        ['\\xc3\\xb4','o'],\n",
    "        ['\\xc3\\xa7','c'],\n",
    "        ['(&amp;)|&','and'],\n",
    "        ['[+\\/-]',' '],\n",
    "        [' \\(.*\\)',''],\n",
    "        ['\\ {2}',' '],\n",
    "    ]\n",
    "    \n",
    "    for charSet in chars:\n",
    "        text = re.sub(charSet[0],charSet[1],text)\n",
    "    return(text)\n",
    "              \n",
    "initDB()"
   ]
  },
  {
   "cell_type": "code",
   "execution_count": null,
   "metadata": {
    "collapsed": false
   },
   "outputs": [],
   "source": [
    "nordstromMen = nm.Pages(\"M\")\n",
    "nordstromWomen = nm.Pages(\"W\")"
   ]
  },
  {
   "cell_type": "code",
   "execution_count": null,
   "metadata": {
    "collapsed": false,
    "scrolled": true
   },
   "outputs": [],
   "source": [
    "for array in nordstromMen.itemAA:\n",
    "    for item in array:\n",
    "        IT = nm.itemMD(item,\"M\")\n",
    "        IT.dbExecute()\n",
    "\n",
    "for array in nordstromWomen.itemAA:\n",
    "    for item in array:\n",
    "        IT = nm.itemMD(item,\"W\")\n",
    "        IT.dbExecute()\n",
    "        "
   ]
  },
  {
   "cell_type": "code",
   "execution_count": null,
   "metadata": {
    "collapsed": true
   },
   "outputs": [],
   "source": [
    "#Data is now safely stored in an SQLite database. Yay!"
   ]
  }
 ],
 "metadata": {
  "kernelspec": {
   "display_name": "Python 2",
   "language": "python",
   "name": "python2"
  },
  "language_info": {
   "codemirror_mode": {
    "name": "ipython",
    "version": 2
   },
   "file_extension": ".py",
   "mimetype": "text/x-python",
   "name": "python",
   "nbconvert_exporter": "python",
   "pygments_lexer": "ipython2",
   "version": "2.7.6"
  }
 },
 "nbformat": 4,
 "nbformat_minor": 0
}
