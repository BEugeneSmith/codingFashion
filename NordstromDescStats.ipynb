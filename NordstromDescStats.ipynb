{
 "cells": [
  {
   "cell_type": "code",
   "execution_count": null,
   "metadata": {
    "collapsed": false
   },
   "outputs": [],
   "source": [
    "import pandas as pd\n",
    "import re\n",
    "import collections"
   ]
  },
  {
   "cell_type": "code",
   "execution_count": null,
   "metadata": {
    "collapsed": false
   },
   "outputs": [],
   "source": [
    "menCsv = pd.DataFrame.from_csv('nordstromMen.csv')\n",
    "womenCsv = pd.DataFrame.from_csv('nordstromWomen.csv')"
   ]
  },
  {
   "cell_type": "code",
   "execution_count": null,
   "metadata": {
    "collapsed": false
   },
   "outputs": [],
   "source": [
    "class Props:\n",
    "    def __init__(self):\n",
    "        self.pieces = self.pieces()\n",
    "        self.fit = self.fit()\n",
    "        self.pattern = self.pattern()\n",
    "        self.texture = self.texture()\n",
    "        \n",
    "    def pieces(self):\n",
    "        return(\n",
    "            [\n",
    "            'Shirt','Polo','Shorts','Jacket','Jeans','Pants',\n",
    "            'Trunks','Hoodie','Sweater','Sweatshirt','Trousers',\n",
    "            'Pullover','Jersey','Top','Coat','Tank',\n",
    "            'Jogger','Suit','Blazer','Vest','Chinos'\n",
    "            ]\n",
    "        )\n",
    "    \n",
    "    def fits(self):\n",
    "        return(\n",
    "            [\n",
    "                'Trim','Slim','Regular','Straight','Stretch',\n",
    "                'Modern','Tailored','Slub','Relaxed','Skinny',\n",
    "                'Slouchy'\n",
    "            ]\n",
    "        )\n",
    "        \n",
    "    def patterns(self):\n",
    "        return(\n",
    "            ['Stripe','Plaid','Graphic','Colorblock','Floral',\n",
    "             'Houndstooth','Indigo','Contrast']\n",
    "        )\n",
    "    \n",
    "    def textures(self):\n",
    "        return(\n",
    "            [\n",
    "                'Nylon','Textured','Cotton','Wool','Linen',\n",
    "                'Woven','Silk','Twill','Knit','Microfiber',\n",
    "                'Wrinkle','Jacquard','Mesh','Leather','Gingham',\n",
    "                'Cashmere','Herringbone','Houndstooth','Fleece'\n",
    "            ]\n",
    "        )\n",
    "    "
   ]
  },
  {
   "cell_type": "code",
   "execution_count": null,
   "metadata": {
    "collapsed": true
   },
   "outputs": [],
   "source": [
    "class dfExtract(Props):\n",
    "    \n",
    "    def __init__(self,df):\n",
    "        self.df = df\n",
    "        self.__itemFreqTable = self.__itemFreqTable()\n",
    "        self.ItemFreqCnt = self.__itemFreqCount()\n",
    "        self.FitFreqCnt = self.__fitFreqCount()\n",
    "        self.PatternFreqCnt = self.__patternFreqCount()\n",
    "        self.TextureFreqCnt = self.__textureFreqCount()\n",
    "        \n",
    "    def __itemFreqTable(self):\n",
    "        itemNames = self.df['ItemName']\n",
    "        terms = (' '.join(itemNames.tolist())).split(' ')\n",
    "        \n",
    "        freqTable = collections.Counter()\n",
    "        for term in terms:\n",
    "            freqTable[term] += 1\n",
    "            \n",
    "        return(freqTable)\n",
    "    \n",
    "    def __itemFreqCount(self):\n",
    "    #returns the counts of ONLY the selected items\n",
    "        itemCounts = []\n",
    "        for item in self.pieces():\n",
    "            itemCounts.append(self.__itemFreqTable.get(item))\n",
    "        return(itemCounts)\n",
    "    \n",
    "    def __fitFreqCount(self):\n",
    "    #returns the counts of ONLY the selected fits\n",
    "        fitCounts = []\n",
    "        for fit in self.fits():\n",
    "            fitCounts.append(self.__itemFreqTable.get(fit))\n",
    "        return(fitCounts)\n",
    "    \n",
    "    def __textureFreqCount(self):\n",
    "    #returns the counts of ONLY the selected textures\n",
    "        textureCounts = []\n",
    "        for texture in self.textures():\n",
    "            textureCounts.append(self.__itemFreqTable.get(texture))\n",
    "        return(textureCounts)\n",
    "    \n",
    "    def __patternFreqCount(self):\n",
    "    #returns the counts of ONLY the selected patterns\n",
    "        patternCounts = []\n",
    "        for pattern in self.patterns():\n",
    "            patternCounts.append(self.__itemFreqTable.get(pattern))\n",
    "        return(patternCounts)\n",
    "    "
   ]
  },
  {
   "cell_type": "code",
   "execution_count": null,
   "metadata": {
    "collapsed": true
   },
   "outputs": [],
   "source": [
    "class descriptiveStats:\n",
    "    def __init__(self,df):\n",
    "        self.data = dfExtract(df)\n",
    "        self.tFits = self.__totalFits()\n",
    "        self.tTextures = self.__totalTextures()\n",
    "        self.tItems = self.__totalItems()\n",
    "        self.tPatterns = self.__totalPatterns()\n",
    "    \n",
    "        self.summary = self.summary()\n",
    "        self.uniqueSummary = self.uniqueSummary()\n",
    "        \n",
    "    def __superSum(self,array):\n",
    "        #Temporary solution\n",
    "        total = 0\n",
    "        for i in array:\n",
    "            try:\n",
    "                total += i\n",
    "            except:\n",
    "                next\n",
    "        return(total) \n",
    "    \n",
    "    \n",
    "    def __totalFits(self):\n",
    "        return(self.__superSum(self.data.FitFreqCnt))\n",
    "        \n",
    "    def __totalTextures(self):\n",
    "        return(self.__superSum(self.data.TextureFreqCnt))\n",
    "    \n",
    "            \n",
    "    def __totalItems(self):\n",
    "        return(self.__superSum(self.data.ItemFreqCnt))\n",
    "    \n",
    "    def __totalPatterns(self):\n",
    "        return(self.__superSum(self.data.PatternFreqCnt))\n",
    "    \n",
    "    def summary(self):\n",
    "        return(\n",
    "            {\n",
    "                'Fits':self.tFits,\n",
    "                'Textures':self.tTextures,\n",
    "                'Items':self.tItems,\n",
    "                'Patterns':self.tPatterns\n",
    "            }\n",
    "        )\n",
    "    \n",
    "    def uniqueSummary(self):\n",
    "        return(\n",
    "            {\n",
    "                'Fits':len(self.data.FitFreqCnt),\n",
    "                'Textures':len(self.data.TextureFreqCnt),\n",
    "                'Items':len(self.data.ItemFreqCnt),\n",
    "                'Patterns':len(self.data.PatternFreqCnt)\n",
    "            }\n",
    "        )\n",
    "        "
   ]
  },
  {
   "cell_type": "code",
   "execution_count": null,
   "metadata": {
    "collapsed": false
   },
   "outputs": [],
   "source": [
    "class plotting:\n",
    "    pass\n"
   ]
  },
  {
   "cell_type": "code",
   "execution_count": null,
   "metadata": {
    "collapsed": false
   },
   "outputs": [],
   "source": [
    "#womenData = descriptiveStats(womenCsv)\n",
    "#womenData.summary"
   ]
  },
  {
   "cell_type": "code",
   "execution_count": null,
   "metadata": {
    "collapsed": false
   },
   "outputs": [],
   "source": []
  }
 ],
 "metadata": {
  "kernelspec": {
   "display_name": "Python 2",
   "language": "python",
   "name": "python2"
  },
  "language_info": {
   "codemirror_mode": {
    "name": "ipython",
    "version": 2
   },
   "file_extension": ".py",
   "mimetype": "text/x-python",
   "name": "python",
   "nbconvert_exporter": "python",
   "pygments_lexer": "ipython2",
   "version": "2.7.6"
  }
 },
 "nbformat": 4,
 "nbformat_minor": 0
}
