{
 "cells": [
  {
   "cell_type": "code",
   "execution_count": null,
   "metadata": {
    "collapsed": false
   },
   "outputs": [],
   "source": [
    "import urllib\n",
    "import re\n",
    "import sqlite3"
   ]
  },
  {
   "cell_type": "code",
   "execution_count": null,
   "metadata": {
    "collapsed": false
   },
   "outputs": [],
   "source": [
    "#functions\n",
    "def initDB():\n",
    "    conn = sqlite3.connect('nordstrom.db')\n",
    "    c = conn.cursor()\n",
    "    c.execute('''CREATE TABLE nordstromW (Name,VendorName,Color,Price)''')\n",
    "    conn.commit()\n",
    "    conn.close()\n",
    "\n",
    "def replaceChars(text):\n",
    "    chars = [\n",
    "        ['\\xc3\\xa9','e'],\n",
    "        ['\\xc3\\xaa','e'],\n",
    "        ['(&#174;)|(&#233;)|\\'|\\xc2\\xae',''],\n",
    "        ['(&amp;)|&','and'],\n",
    "        ['[\\/-]',' '],\n",
    "        [' \\(.*\\)',''],\n",
    "        ['  ',' '],\n",
    "    ]\n",
    "    \n",
    "    for charSet in chars:\n",
    "        text = re.sub(charSet[0],charSet[1],text)\n",
    "    return(text)\n",
    "initDB()"
   ]
  },
  {
   "cell_type": "code",
   "execution_count": null,
   "metadata": {
    "collapsed": false
   },
   "outputs": [],
   "source": [
    "#gets information for item URLs on all of women's pages\n",
    "class wPages:\n",
    "    \n",
    "    def __init__(self):\n",
    "        self.WomenProductURL = \"http://shop.nordstrom.com/c/all-womens-clothing?origin=leftnav\"\n",
    "        self.wProductsHTML   = self.collectCompressHTML(self.WomenProductURL)\n",
    "        self.MaxPages        = self.extractMaxPageNumber()\n",
    "        self.pageURLs        = self.pageURLext()\n",
    "        self.itemAA          = []\n",
    "        self.extractItems()\n",
    "    \n",
    "    def collectCompressHTML(self,URL):\n",
    "        response = urllib.urlopen(URL)\n",
    "        text = response.read()\n",
    "        compressedHTML = re.sub(r\"[\\t\\n\\r]\",\"\",text.strip())\n",
    "        return(compressedHTML)\n",
    "\n",
    "    def extractMaxPageNumber(self):\n",
    "        pageNums = re.findall('<ul class=\"product-results-pagination truncated-pagination\">.*</nav>',self.wProductsHTML)\n",
    "        pageNList = re.findall('data-page=\"(\\d{1,3})\"',pageNums[0])\n",
    "        for i in range(0,len(pageNList)):\n",
    "            pageNList[i] = int(pageNList[i])\n",
    "        return(max(pageNList))\n",
    "\n",
    "    def pageURLext(self):\n",
    "        pageURLs = []\n",
    "        for num in range(1,(self.MaxPages+1)):\n",
    "            URL = 'http://shop.nordstrom.com/c/all-womens-clothing?origin=leftnav?sort=Feature&page=' + str(num)\n",
    "            pageURLs.append(URL)\n",
    "       \n",
    "        return(pageURLs)\n",
    "\n",
    "    ####get items and save URLs \n",
    "    def extractItems(self):\n",
    "        #for page in range(0,len(self.pageURLs)):\n",
    "        for page in [0,1,2]: #this is for testing. it takes the first two pages\n",
    "            pageHTML = self.collectCompressHTML(self.pageURLs[page])\n",
    "            extractedResults = re.findall('<!-- Begin FashionResults -->(.*)<!-- End FashionResults -->',pageHTML)[0]\n",
    "            extractedURLs    = re.findall('href=\"(/s/[-a-z]*/\\d{6,8}.origin=category)\"',extractedResults)\n",
    "            URLs = self.itemURLCreate(extractedURLs)\n",
    "            self.itemAA.append(URLs)\n",
    "\n",
    "    def itemURLCreate(self,itemExtensions):\n",
    "        newURLs = []\n",
    "        for i in itemExtensions:\n",
    "            URL = 'http://shop.nordstrom.com' + i\n",
    "            newURLs.append(URL)\n",
    "    \n",
    "        return(newURLs) \n",
    "    \n",
    "            \n",
    "\n"
   ]
  },
  {
   "cell_type": "code",
   "execution_count": null,
   "metadata": {
    "collapsed": false
   },
   "outputs": [],
   "source": [
    "class itemMD:\n",
    "    \n",
    "    def __init__(self,URL):\n",
    "        self.URL        = URL\n",
    "        self.HTML       = self.collectCompressHTML()\n",
    "        self.vendorName = self.vendorExtract()\n",
    "        self.itemName   = self.nameExtract()\n",
    "        self.itemID     = self.itemNumberExtract()\n",
    "        self.itemPrice  = self.priceExtract()\n",
    "        self.itemColor  = self.colorExtracter()\n",
    "        self.sqliteConn = sqlite3.connect('nordstromW.db')\n",
    "\n",
    "        \n",
    "    def collectCompressHTML(self):\n",
    "        response = urllib.urlopen(self.URL)\n",
    "        text = response.read()\n",
    "        HTML = re.sub(r\"[\\t\\n\\r]\",\"\",text.strip())\n",
    "        \n",
    "        return(HTML)\n",
    "\n",
    "    #extracts vendor name from item page\n",
    "    def vendorExtract(self):\n",
    "        vendorName = re.findall('<section id=\"brand-title\".+><h2><a.+>(.*)</a></h2></section>',self.HTML)\n",
    "        vendorName = replaceChars(vendorName[0])\n",
    "        \n",
    "        return(vendorName)\n",
    "    \n",
    "    #extracts names from item page\n",
    "    def nameExtract(self):\n",
    "        itemName = re.findall('<h1 itemprop=\"name\">(.*)</h1></section',self.HTML)\n",
    "        itemName = replaceChars(itemName[0])\n",
    "        \n",
    "        return(itemName)\n",
    "    \n",
    "    #extract regular price from item page\n",
    "    def priceExtract(self):\n",
    "        itemPrice = re.findall('regularPrice\":\"\\$([\\d,]{1,5}\\.\\d{2})\"',self.HTML)\n",
    "        try:\n",
    "            return(itemPrice[0])\n",
    "        except:\n",
    "            return(0)\n",
    "    \n",
    "    #extracts item number from item page\n",
    "    def itemNumberExtract(self):\n",
    "        itemID = re.findall('<div class=\"item-number-wrapper\">Item #(\\d+)</div>',self.HTML)\n",
    "        if not itemID:\n",
    "            itemID = ['']\n",
    "        return(itemID)\n",
    "    \n",
    "    #extracts color from item page\n",
    "    def colorExtracter(self):\n",
    "        colorElement = re.findall('<option (selected=\"\\w{0,20}\" )?value=\"color-\\d{6,8}\">([\\w ]+)</option>',self.HTML)\n",
    "        colorElement = re.findall('value=\"color-\\d{6,8}\">([\\w ]+)</option>',self.HTML)\n",
    "        colorList = []\n",
    "        for color in colorElement:\n",
    "            if ( color in colorList ):\n",
    "                next\n",
    "            else:\n",
    "                colorList.append(color)\n",
    "                \n",
    "        if not colorList:\n",
    "            colorList = [''] \n",
    "        return(colorList)\n",
    "    \n",
    "    \n",
    "    #exports item properties as a string\n",
    "    def export(self):\n",
    "        return([self.itemName,self.vendorName,self.itemID,self.itemPrice,self.itemColor])\n",
    "            \n",
    "    def dbPopulate(self,db):\n",
    "        conn = sqlite3.connect(db)\n",
    "        c = conn.cursor()\n",
    "        \n",
    "        for color in self.itemColor:\n",
    "            record = [self.itemName,self.vendorName,color,self.itemPrice]\n",
    "            c.execute(\"INSERT INTO nordstromW VALUES (?,?,?,?)\",record)\n",
    "        \n",
    "        conn.commit()\n",
    "        conn.close()\n",
    "            "
   ]
  },
  {
   "cell_type": "code",
   "execution_count": null,
   "metadata": {
    "collapsed": false
   },
   "outputs": [],
   "source": [
    "nordstromWomen = wPages()"
   ]
  },
  {
   "cell_type": "code",
   "execution_count": null,
   "metadata": {
    "collapsed": false
   },
   "outputs": [],
   "source": [
    "for array in nordstromWomen.itemAA:\n",
    "    for item in array:\n",
    "        testIT = itemMD(item)\n",
    "        testIT.dbPopulate('nordstrom.db')"
   ]
  },
  {
   "cell_type": "code",
   "execution_count": null,
   "metadata": {
    "collapsed": false
   },
   "outputs": [],
   "source": []
  }
 ],
 "metadata": {
  "kernelspec": {
   "display_name": "Python 2",
   "language": "python",
   "name": "python2"
  },
  "language_info": {
   "codemirror_mode": {
    "name": "ipython",
    "version": 2
   },
   "file_extension": ".py",
   "mimetype": "text/x-python",
   "name": "python",
   "nbconvert_exporter": "python",
   "pygments_lexer": "ipython2",
   "version": "2.7.6"
  }
 },
 "nbformat": 4,
 "nbformat_minor": 0
}
